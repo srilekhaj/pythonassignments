{
 "cells": [
  {
   "cell_type": "code",
   "execution_count": 4,
   "id": "05782a3a-f0d3-444d-bb93-1c3117ca508a",
   "metadata": {},
   "outputs": [
    {
     "name": "stdout",
     "output_type": "stream",
     "text": [
      "Sub-fields in AI are:\n",
      "Machine Learning\n",
      "Neural Networks\n",
      "Vision\n",
      "Robotics\n",
      "Speech Processing\n",
      "Natural Language Processing\n"
     ]
    }
   ],
   "source": [
    "from Programs import Program\n",
    "objects = Program()\n",
    "objects.Subfields() \n"
   ]
  },
  {
   "cell_type": "code",
   "execution_count": 5,
   "id": "c4323942-85a5-4a7f-a359-be83a494e166",
   "metadata": {},
   "outputs": [
    {
     "name": "stdin",
     "output_type": "stream",
     "text": [
      "Enter a number: 323\n"
     ]
    },
    {
     "data": {
      "text/plain": [
       "'323 is Odd number'"
      ]
     },
     "execution_count": 5,
     "metadata": {},
     "output_type": "execute_result"
    }
   ],
   "source": [
    "objects.OddEven()"
   ]
  },
  {
   "cell_type": "code",
   "execution_count": 6,
   "id": "9803b7d6-f1f7-47aa-8ddd-dcbe6af1d2ef",
   "metadata": {},
   "outputs": [
    {
     "name": "stdin",
     "output_type": "stream",
     "text": [
      "Your Gender: Male\n",
      "Your Age: 32\n"
     ]
    },
    {
     "data": {
      "text/plain": [
       "'ELIGIBLE'"
      ]
     },
     "execution_count": 6,
     "metadata": {},
     "output_type": "execute_result"
    }
   ],
   "source": [
    "objects.Eligible()"
   ]
  },
  {
   "cell_type": "code",
   "execution_count": 7,
   "id": "22632b68-d3d3-463b-b351-91c2defcf778",
   "metadata": {},
   "outputs": [
    {
     "name": "stdin",
     "output_type": "stream",
     "text": [
      "Subject1= 32\n",
      "Subject2= 32\n",
      "Subject3= 34\n",
      "Subject4= 43\n",
      "Subject5= 43\n"
     ]
    },
    {
     "name": "stdout",
     "output_type": "stream",
     "text": [
      "Total : 184\n",
      "Percentage :  36.8\n"
     ]
    }
   ],
   "source": [
    "objects.percentage()"
   ]
  },
  {
   "cell_type": "code",
   "execution_count": 8,
   "id": "d6dfb2b3-b2b7-430c-9e6d-66fd8410cf2f",
   "metadata": {},
   "outputs": [
    {
     "name": "stdin",
     "output_type": "stream",
     "text": [
      "Height: 32\n",
      "Breadth: 43\n"
     ]
    },
    {
     "name": "stdout",
     "output_type": "stream",
     "text": [
      "Area formula: (Height*Breadth)/2 \n",
      "Area of Triangle: 688.0\n"
     ]
    },
    {
     "name": "stdin",
     "output_type": "stream",
     "text": [
      "Height1: 4\n",
      "Height2: 4\n",
      "Breadth: 2\n"
     ]
    },
    {
     "name": "stdout",
     "output_type": "stream",
     "text": [
      "Perimeter formula: Height1+Height2+Breadth\n",
      "Perimeter of Triangle: 10\n"
     ]
    }
   ],
   "source": [
    "objects.triangle()"
   ]
  },
  {
   "cell_type": "code",
   "execution_count": 2,
   "id": "07f5a9a1-0ece-4005-82d5-8fe11e7f49dc",
   "metadata": {},
   "outputs": [
    {
     "name": "stdout",
     "output_type": "stream",
     "text": [
      "Sub-fields in AI are:\n",
      "Machine Learning\n",
      "Neural Networks\n",
      "Vision\n",
      "Robotics\n",
      "Speech Processing\n",
      "Natural Language Processing\n"
     ]
    },
    {
     "name": "stdin",
     "output_type": "stream",
     "text": [
      "Enter a number: 52344\n"
     ]
    },
    {
     "name": "stdout",
     "output_type": "stream",
     "text": [
      "52344 is Even number\n",
      "52344 EVEN\n"
     ]
    },
    {
     "name": "stdin",
     "output_type": "stream",
     "text": [
      "Your Gender: Male\n",
      "Your Age: 32\n"
     ]
    },
    {
     "name": "stdout",
     "output_type": "stream",
     "text": [
      "ELIGIBLE\n"
     ]
    },
    {
     "name": "stdin",
     "output_type": "stream",
     "text": [
      "Subject1= 32\n",
      "Subject2= 43\n",
      "Subject3= 34\n",
      "Subject4= 32\n",
      "Subject5= 43\n"
     ]
    },
    {
     "name": "stdout",
     "output_type": "stream",
     "text": [
      "Total : 184\n",
      "Percentage :  36.8\n"
     ]
    },
    {
     "name": "stdin",
     "output_type": "stream",
     "text": [
      "Height: 4\n",
      "Breadth: 4\n"
     ]
    },
    {
     "name": "stdout",
     "output_type": "stream",
     "text": [
      "Area formula: (Height*Breadth)/2 \n",
      "Area of Triangle: 8.0\n"
     ]
    },
    {
     "name": "stdin",
     "output_type": "stream",
     "text": [
      "Height1: 4\n",
      "Height2: 4\n",
      "Breadth: 2\n"
     ]
    },
    {
     "name": "stdout",
     "output_type": "stream",
     "text": [
      "Perimeter formula: Height1+Height2+Breadth\n",
      "Perimeter of Triangle: 10\n"
     ]
    }
   ],
   "source": [
    "from Programs import Program\n",
    "objects = Program()\n",
    "objects.Subfields() \n",
    "objects.OddEven()\n",
    "objects.Eligible()\n",
    "objects.percentage()\n",
    "objects.triangle()"
   ]
  },
  {
   "cell_type": "code",
   "execution_count": null,
   "id": "7069cb19-4c7b-470f-8817-a65d5256e06e",
   "metadata": {},
   "outputs": [],
   "source": []
  }
 ],
 "metadata": {
  "kernelspec": {
   "display_name": "Python 3 (ipykernel)",
   "language": "python",
   "name": "python3"
  },
  "language_info": {
   "codemirror_mode": {
    "name": "ipython",
    "version": 3
   },
   "file_extension": ".py",
   "mimetype": "text/x-python",
   "name": "python",
   "nbconvert_exporter": "python",
   "pygments_lexer": "ipython3",
   "version": "3.12.7"
  }
 },
 "nbformat": 4,
 "nbformat_minor": 5
}
