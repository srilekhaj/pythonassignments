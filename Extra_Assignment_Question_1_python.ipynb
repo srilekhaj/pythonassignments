{
 "cells": [
  {
   "cell_type": "code",
   "execution_count": 1,
   "id": "0ea1f97e-fcb5-49fc-a3da-5e257007e503",
   "metadata": {},
   "outputs": [
    {
     "name": "stdout",
     "output_type": "stream",
     "text": [
      "HOPE AI\n"
     ]
    }
   ],
   "source": [
    "#print statement\n",
    "print(\"HOPE AI\")"
   ]
  },
  {
   "cell_type": "code",
   "execution_count": 2,
   "id": "08bbbd55-4558-478b-887f-e71c53de8882",
   "metadata": {},
   "outputs": [
    {
     "name": "stdin",
     "output_type": "stream",
     "text": [
      "Enter your Institute Name:  HOPE AI\n"
     ]
    }
   ],
   "source": [
    " # Buy input \n",
    "user_input = input(\"Enter your Institute Name: \")"
   ]
  },
  {
   "cell_type": "code",
   "execution_count": 3,
   "id": "aa1d8fd1-dd00-42f5-b7be-c2be4b138a77",
   "metadata": {},
   "outputs": [
    {
     "name": "stdin",
     "output_type": "stream",
     "text": [
      "Enter your name:  Raj\n",
      "Enter your age:  15\n",
      "Enter your school name:  Guru school\n",
      "Enter your degree:  B.E CSE\n"
     ]
    }
   ],
   "source": [
    "#Buy inputs\n",
    "name = input(\"Enter your name: \") \n",
    "age = input(\"Enter your age: \")\n",
    "school = input(\"Enter your school name: \")\n",
    "degree = input(\"Enter your degree: \")"
   ]
  },
  {
   "cell_type": "code",
   "execution_count": 4,
   "id": "5d7a7e2d-46d9-4a2d-9fbc-444d3b3b9014",
   "metadata": {},
   "outputs": [
    {
     "name": "stdin",
     "output_type": "stream",
     "text": [
      "a=  43\n",
      "b=  34\n"
     ]
    },
    {
     "name": "stdout",
     "output_type": "stream",
     "text": [
      "add = 77\n"
     ]
    }
   ],
   "source": [
    "#Addition\n",
    "number1 = int(input(\"a= \"))\n",
    "number2 = int(input(\"b= \"))\n",
    "addition = number1 + number2\n",
    "print(\"add =\",addition)"
   ]
  },
  {
   "cell_type": "code",
   "execution_count": 6,
   "id": "57ac92f4-43c1-4fde-94be-cd28a0532a9a",
   "metadata": {},
   "outputs": [
    {
     "name": "stdin",
     "output_type": "stream",
     "text": [
      "a=  43\n",
      "b=  34\n"
     ]
    },
    {
     "name": "stdout",
     "output_type": "stream",
     "text": [
      "Sub = 9\n"
     ]
    }
   ],
   "source": [
    "#Subtraction \n",
    "number1 = int(input(\"a= \"))\n",
    "number2 = int(input(\"b= \"))\n",
    "sub = number1 - number2\n",
    "print(\"Sub =\",sub)"
   ]
  },
  {
   "cell_type": "code",
   "execution_count": 7,
   "id": "43d4672c-570f-4675-8e84-64b91b9a635b",
   "metadata": {},
   "outputs": [
    {
     "name": "stdin",
     "output_type": "stream",
     "text": [
      "a= 63\n",
      "b= 97\n"
     ]
    },
    {
     "name": "stdout",
     "output_type": "stream",
     "text": [
      "Mul = 6111\n"
     ]
    }
   ],
   "source": [
    "#Multiplication \n",
    "number1 = int(input(\"a=\"))\n",
    "number2 = int(input(\"b=\"))\n",
    "mul = number1 * number2\n",
    "print(\"Mul =\",mul)"
   ]
  },
  {
   "cell_type": "code",
   "execution_count": 8,
   "id": "0fd9833e-f8f4-4745-9538-2b5b8299aa23",
   "metadata": {},
   "outputs": [
    {
     "name": "stdin",
     "output_type": "stream",
     "text": [
      "a= 76\n",
      "b= 31\n"
     ]
    },
    {
     "name": "stdout",
     "output_type": "stream",
     "text": [
      "Div = 2.4516129032258065\n"
     ]
    }
   ],
   "source": [
    "#Division\n",
    "number1 = int(input(\"a=\"))\n",
    "number2 = int(input(\"b=\"))\n",
    "div = number1 / number2\n",
    "print(\"Div =\",div)"
   ]
  },
  {
   "cell_type": "code",
   "execution_count": 9,
   "id": "9a2e625c-2be8-4c8a-bcb4-0609a0bca3a4",
   "metadata": {},
   "outputs": [
    {
     "name": "stdin",
     "output_type": "stream",
     "text": [
      "a= 76\n",
      "b= 31\n"
     ]
    },
    {
     "name": "stdout",
     "output_type": "stream",
     "text": [
      "Floor Div = 2\n"
     ]
    }
   ],
   "source": [
    "#Floor division\n",
    "number1 = int(input(\"a=\"))\n",
    "number2 = int(input(\"b=\"))\n",
    "div = number1 // number2\n",
    "print(\"Floor Div =\",div)"
   ]
  },
  {
   "cell_type": "code",
   "execution_count": 10,
   "id": "4a222ffd-9e9f-46b3-abc7-94c61dfb5cf3",
   "metadata": {},
   "outputs": [
    {
     "name": "stdin",
     "output_type": "stream",
     "text": [
      "a= 76\n",
      "b= 31\n"
     ]
    },
    {
     "name": "stdout",
     "output_type": "stream",
     "text": [
      "Modulo = 14\n"
     ]
    }
   ],
   "source": [
    "#Modulo\n",
    "number1 = int(input(\"a=\"))\n",
    "number2 = int(input(\"b=\"))\n",
    "div = number1 % number2\n",
    "print(\"Modulo =\",div)"
   ]
  },
  {
   "cell_type": "code",
   "execution_count": 11,
   "id": "2d09c846-f262-4a9c-8723-26ff23e6b7f7",
   "metadata": {},
   "outputs": [
    {
     "name": "stdin",
     "output_type": "stream",
     "text": [
      "a= 4\n",
      "b= 4\n"
     ]
    },
    {
     "name": "stdout",
     "output_type": "stream",
     "text": [
      "Power = 256\n"
     ]
    }
   ],
   "source": [
    "#Power\n",
    "number1 = int(input(\"a=\"))\n",
    "number2 = int(input(\"b=\"))\n",
    "div = number1 ** number2\n",
    "print(\"Power =\",div)"
   ]
  },
  {
   "cell_type": "code",
   "execution_count": 12,
   "id": "d5a294d5-3c32-4a26-a7b4-89002b4670d5",
   "metadata": {},
   "outputs": [
    {
     "name": "stdin",
     "output_type": "stream",
     "text": [
      "a= 4\n",
      "b= 4\n"
     ]
    },
    {
     "name": "stdout",
     "output_type": "stream",
     "text": [
      "Power = 256\n"
     ]
    }
   ],
   "source": [
    "#Power using function\n",
    "number1 = int(input(\"a=\"))\n",
    "number2 = int(input(\"b=\"))\n",
    "div = pow(number1,number2)\n",
    "print(\"Power =\",div)"
   ]
  },
  {
   "cell_type": "code",
   "execution_count": null,
   "id": "fc59b293-9313-4144-b5af-582f39ead66d",
   "metadata": {},
   "outputs": [],
   "source": []
  }
 ],
 "metadata": {
  "kernelspec": {
   "display_name": "Python 3 (ipykernel)",
   "language": "python",
   "name": "python3"
  },
  "language_info": {
   "codemirror_mode": {
    "name": "ipython",
    "version": 3
   },
   "file_extension": ".py",
   "mimetype": "text/x-python",
   "name": "python",
   "nbconvert_exporter": "python",
   "pygments_lexer": "ipython3",
   "version": "3.12.7"
  }
 },
 "nbformat": 4,
 "nbformat_minor": 5
}
