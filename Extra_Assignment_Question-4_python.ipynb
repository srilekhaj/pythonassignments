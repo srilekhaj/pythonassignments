{
 "cells": [
  {
   "cell_type": "code",
   "execution_count": 4,
   "id": "9d43380e-9e7b-4231-b306-bea3f4a9c89d",
   "metadata": {},
   "outputs": [
    {
     "name": "stdout",
     "output_type": "stream",
     "text": [
      "Sub-fields in AI are:\n",
      "Machine Learning\n",
      "Neural Networks\n",
      "Vision\n",
      "Robotics\n",
      "Speech Processing\n",
      "Natural Language Processing\n"
     ]
    }
   ],
   "source": [
    "# Create a function, and list out the items in the list \n",
    "AIDomains = [\"Machine Learning\", \"Neural Networks\",\"Vision\",\"Robotics\",\"Speech Processing\",\"Natural Language Processing\"]\n",
    "\n",
    "def Subfields():\n",
    "    print(\"Sub-fields in AI are:\")\n",
    "    for eachdomain in AIDomains:\n",
    "        \n",
    "        print(eachdomain)\n",
    "Subfields() \n"
   ]
  },
  {
   "cell_type": "code",
   "execution_count": 7,
   "id": "c6251391-4d3f-4e74-9241-1726acff9ae8",
   "metadata": {},
   "outputs": [
    {
     "name": "stdin",
     "output_type": "stream",
     "text": [
      "Enter a number: 52452\n"
     ]
    },
    {
     "name": "stdout",
     "output_type": "stream",
     "text": [
      "52452 is Even number\n"
     ]
    }
   ],
   "source": [
    "# Create a function that checks whether the given number is Odd or Even()\n",
    "\n",
    "def OddEven():\n",
    "    number= int(input(\"Enter a number:\"))\n",
    "    if(number%2==0):\n",
    "        print(f\"{number} is Even number\")\n",
    "    else:\n",
    "        print(f\"{number} is Odd number\")\n",
    "        \n",
    "OddEven()"
   ]
  },
  {
   "cell_type": "code",
   "execution_count": 12,
   "id": "92fee292-be1d-4e8a-b017-471538e108c0",
   "metadata": {},
   "outputs": [
    {
     "name": "stdin",
     "output_type": "stream",
     "text": [
      "Your Gender: Female\n",
      "Your Age: 27\n"
     ]
    },
    {
     "name": "stdout",
     "output_type": "stream",
     "text": [
      "ELIGIBLE\n"
     ]
    }
   ],
   "source": [
    "# Create a function that tells elegibility of marriage for male and female according to their \n",
    "#age limit like 21 for male and 18 for female \n",
    "def Eligible():\n",
    "    gender = input(\"Your Gender:\") \n",
    "    age = int(input(\"Your Age:\"))\n",
    "    if (gender == \"Male\"):\n",
    "        if age>=21:\n",
    "            print(\"ELIGIBLE\")\n",
    "        else:\n",
    "            print(\"NOT ELIGIBLE\")\n",
    "    elif (gender == \"Female\"):\n",
    "        if age>=18:\n",
    "            print(\"ELIGIBLE\")\n",
    "        else:\n",
    "            print(\"NOT ELIGIBLE\")\n",
    "    \n",
    "Eligible()"
   ]
  },
  {
   "cell_type": "code",
   "execution_count": 19,
   "id": "29a40c6d-f2a2-4ae6-87fa-95d4a8bfebbe",
   "metadata": {},
   "outputs": [
    {
     "name": "stdin",
     "output_type": "stream",
     "text": [
      "Subject1= 98\n",
      "Subject2= 87\n",
      "Subject3= 95\n",
      "Subject4= 95\n",
      "Subject5= 93\n"
     ]
    },
    {
     "name": "stdout",
     "output_type": "stream",
     "text": [
      "Total : 468\n",
      "Percentage :  93.6\n"
     ]
    }
   ],
   "source": [
    "#calculate the percentage of your 10th mark \n",
    "def percentage():\n",
    "    total = 0\n",
    "    for i in range(5):\n",
    "        marks = int(input(f\"Subject{i+1}=\"))\n",
    "        total = total + marks\n",
    "    percent = total / 5\n",
    "    print(\"Total :\", total)\n",
    "    print(\"Percentage : \",percent)\n",
    "percentage()\n"
   ]
  },
  {
   "cell_type": "code",
   "execution_count": 21,
   "id": "0bee4229-2fcd-445f-9eed-47ce755e1695",
   "metadata": {},
   "outputs": [
    {
     "name": "stdin",
     "output_type": "stream",
     "text": [
      "Height: 32\n",
      "Breadth: 34\n"
     ]
    },
    {
     "name": "stdout",
     "output_type": "stream",
     "text": [
      "Area formula: (Height*Breadth)/2 \n",
      "Area of Triangle: 544.0\n"
     ]
    },
    {
     "name": "stdin",
     "output_type": "stream",
     "text": [
      "Height1: 2\n",
      "Height2: 4\n",
      "Breadth: 4\n"
     ]
    },
    {
     "name": "stdout",
     "output_type": "stream",
     "text": [
      "Perimeter formula: Height1+Height2+Breadth\n",
      "Perimeter of Triangle: 10\n"
     ]
    }
   ],
   "source": [
    "#print area and perimeter of triangle using and functions\n",
    "def triangle():\n",
    "    height=int(input(\"Height:\"))\n",
    "    breadth = int(input(\"Breadth:\"))\n",
    "    area = (height * breadth) / 2\n",
    "    print(\"Area formula: (Height*Breadth)/2 \")\n",
    "    print(\"Area of Triangle:\", area)\n",
    "    height1 = int(input(\"Height1:\"))\n",
    "    height2 = int(input(\"Height2:\"))\n",
    "    breadth = int(input(\"Breadth:\"))\n",
    "    perimeter = height1 + height2 + breadth\n",
    "    print(\"Perimeter formula: Height1+Height2+Breadth\")\n",
    "    print(\"Perimeter of Triangle:\",perimeter)\n",
    "    \n",
    "triangle()"
   ]
  },
  {
   "cell_type": "code",
   "execution_count": null,
   "id": "b7478510-b4c2-444d-8c86-fa3b284b839e",
   "metadata": {},
   "outputs": [],
   "source": []
  }
 ],
 "metadata": {
  "kernelspec": {
   "display_name": "Python 3 (ipykernel)",
   "language": "python",
   "name": "python3"
  },
  "language_info": {
   "codemirror_mode": {
    "name": "ipython",
    "version": 3
   },
   "file_extension": ".py",
   "mimetype": "text/x-python",
   "name": "python",
   "nbconvert_exporter": "python",
   "pygments_lexer": "ipython3",
   "version": "3.12.7"
  }
 },
 "nbformat": 4,
 "nbformat_minor": 5
}
