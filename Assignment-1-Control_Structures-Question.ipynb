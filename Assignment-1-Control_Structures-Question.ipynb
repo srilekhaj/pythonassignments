{
 "cells": [
  {
   "cell_type": "code",
   "execution_count": 1,
   "id": "6394f8e2-f6f1-4408-a7b9-a86c9f674294",
   "metadata": {},
   "outputs": [
    {
     "name": "stdout",
     "output_type": "stream",
     "text": [
      "Welcome to Assignment-1\n"
     ]
    }
   ],
   "source": [
    "print(\"Welcome to Assignment-1\")"
   ]
  },
  {
   "cell_type": "code",
   "execution_count": 3,
   "id": "62094f99-ddc5-4752-a2b5-452fd464c562",
   "metadata": {},
   "outputs": [
    {
     "name": "stdin",
     "output_type": "stream",
     "text": [
      "Num1=  10\n",
      "Num2=  30\n"
     ]
    },
    {
     "name": "stdout",
     "output_type": "stream",
     "text": [
      "Add= 40\n"
     ]
    }
   ],
   "source": [
    "#Addition\n",
    "number1 = int(input(\"Num1= \"))\n",
    "number2 = int(input(\"Num2= \"))\n",
    "addition = number1 + number2\n",
    "print(\"Add=\",addition)"
   ]
  },
  {
   "cell_type": "code",
   "execution_count": 8,
   "id": "ddd74679-0df4-41fc-b1f4-3163fd74516d",
   "metadata": {},
   "outputs": [
    {
     "name": "stdin",
     "output_type": "stream",
     "text": [
      "Enter the BMI Index:  3\n"
     ]
    },
    {
     "name": "stdout",
     "output_type": "stream",
     "text": [
      "Underweight\n"
     ]
    }
   ],
   "source": [
    "#Body Mass Index\n",
    "\n",
    "BMI = int(input(\"Enter the BMI Index: \"))\n",
    "if (BMI>0):\n",
    "    if (BMI<18.5):\n",
    "        print(\"Underweight\")\n",
    "    elif(BMI>=18.5 and BMI<=24.9):\n",
    "        print(\"Healthy Weight\")\n",
    "    elif(BMI>=25.0 and BMI<=29.5):\n",
    "        print(\"Overweight\")\n",
    "    elif(BMI>30):\n",
    "        if(BMI>=30 and BMI<=34.5):\n",
    "            print(\"Class 1 Obesity\")\n",
    "        elif(BMI>=35.0 and BMI<=39.9):\n",
    "            print(\"Class 2 Obesity\")\n",
    "        elif(BMI>40):\n",
    "            print(\"Class 3 Obesity\")\n",
    "\n",
    "else:\n",
    "    print(\"BMI cannot be Negative\")\n"
   ]
  },
  {
   "cell_type": "code",
   "execution_count": 9,
   "id": "0146f996-aeb6-4086-a1c1-ec4f4701bf38",
   "metadata": {},
   "outputs": [
    {
     "name": "stdin",
     "output_type": "stream",
     "text": [
      "Enter the BMI Index:  20\n"
     ]
    },
    {
     "name": "stdout",
     "output_type": "stream",
     "text": [
      "Healthy Weight\n"
     ]
    }
   ],
   "source": [
    "#Body Mass Index\n",
    "\n",
    "BMI = int(input(\"Enter the BMI Index: \"))\n",
    "if (BMI>0):\n",
    "    if (BMI<18.5):\n",
    "        print(\"Underweight\")\n",
    "    elif(BMI>=18.5 and BMI<=24.9):\n",
    "        print(\"Healthy Weight\")\n",
    "    elif(BMI>=25.0 and BMI<=29.5):\n",
    "        print(\"Overweight\")\n",
    "    elif(BMI>30):\n",
    "        if(BMI>=30 and BMI<=34.5):\n",
    "            print(\"Class 1 Obesity\")\n",
    "        elif(BMI>=35.0 and BMI<=39.9):\n",
    "            print(\"Class 2 Obesity\")\n",
    "        elif(BMI>40):\n",
    "            print(\"Class 3 Obesity\")\n",
    "\n",
    "else:\n",
    "    print(\"BMI cannot be Negative\")\n"
   ]
  },
  {
   "cell_type": "code",
   "execution_count": 10,
   "id": "de4f4b5a-ea15-4344-964a-922b2b02486b",
   "metadata": {},
   "outputs": [
    {
     "name": "stdin",
     "output_type": "stream",
     "text": [
      "Enter the BMI Index:  27\n"
     ]
    },
    {
     "name": "stdout",
     "output_type": "stream",
     "text": [
      "Overweight\n"
     ]
    }
   ],
   "source": [
    "#Body Mass Index\n",
    "\n",
    "BMI = int(input(\"Enter the BMI Index: \"))\n",
    "if (BMI>0):\n",
    "    if (BMI<18.5):\n",
    "        print(\"Underweight\")\n",
    "    elif(BMI>=18.5 and BMI<=24.9):\n",
    "        print(\"Healthy Weight\")\n",
    "    elif(BMI>=25.0 and BMI<=29.5):\n",
    "        print(\"Overweight\")\n",
    "    elif(BMI>30):\n",
    "        if(BMI>=30 and BMI<=34.5):\n",
    "            print(\"Class 1 Obesity\")\n",
    "        elif(BMI>=35.0 and BMI<=39.9):\n",
    "            print(\"Class 2 Obesity\")\n",
    "        elif(BMI>40):\n",
    "            print(\"Class 3 Obesity\")\n",
    "\n",
    "else:\n",
    "    print(\"BMI cannot be Negative\")\n"
   ]
  },
  {
   "cell_type": "code",
   "execution_count": 14,
   "id": "247ce267-9d04-458b-aafc-696f05bc7248",
   "metadata": {},
   "outputs": [
    {
     "name": "stdin",
     "output_type": "stream",
     "text": [
      "Enter the BMI Index:  78\n"
     ]
    },
    {
     "name": "stdout",
     "output_type": "stream",
     "text": [
      "Class 3 Obesity\n"
     ]
    }
   ],
   "source": [
    "#Body Mass Index\n",
    "\n",
    "BMI = int(input(\"Enter the BMI Index: \"))\n",
    "if (BMI>0):\n",
    "    if (BMI<18.5):\n",
    "        print(\"Underweight\")\n",
    "    elif(BMI>=18.5 and BMI<=24.9):\n",
    "        print(\"Healthy Weight\")\n",
    "    elif(BMI>=25.0 and BMI<=29.5):\n",
    "        print(\"Overweight\")\n",
    "    elif(BMI>30):\n",
    "        if(BMI>=30 and BMI<=34.5):\n",
    "            print(\"Class 1 Obesity\")\n",
    "        elif(BMI>=35.0 and BMI<=39.9):\n",
    "            print(\"Class 2 Obesity\")\n",
    "        elif(BMI>40):\n",
    "            print(\"Class 3 Obesity\")\n",
    "\n",
    "else:\n",
    "    print(\"BMI cannot be Negative\")\n"
   ]
  },
  {
   "cell_type": "code",
   "execution_count": null,
   "id": "73cae3a3-682b-4231-8021-3ed7838aa338",
   "metadata": {},
   "outputs": [],
   "source": []
  }
 ],
 "metadata": {
  "kernelspec": {
   "display_name": "Python 3 (ipykernel)",
   "language": "python",
   "name": "python3"
  },
  "language_info": {
   "codemirror_mode": {
    "name": "ipython",
    "version": 3
   },
   "file_extension": ".py",
   "mimetype": "text/x-python",
   "name": "python",
   "nbconvert_exporter": "python",
   "pygments_lexer": "ipython3",
   "version": "3.12.7"
  }
 },
 "nbformat": 4,
 "nbformat_minor": 5
}
